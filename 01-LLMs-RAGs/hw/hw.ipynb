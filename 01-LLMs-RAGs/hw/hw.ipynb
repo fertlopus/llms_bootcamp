{
 "cells": [
  {
   "metadata": {},
   "cell_type": "markdown",
   "source": "# Introduction",
   "id": "bdcc39c7c247f9e1"
  },
  {
   "metadata": {},
   "cell_type": "markdown",
   "source": [
    "## Q1: Running Elastic:\n",
    "\n",
    "To run elastic, first had to install it. Other option is to use the docker image. The installation was done using the following commands:\n",
    "\n",
    "```bash\n",
    "docker run -it \\\n",
    "    --rm \\\n",
    "    --name elasticsearch \\\n",
    "    -p 9200:9200 \\\n",
    "    -p 9300:9300 \\\n",
    "    -e \"discovery.type=single-node\" \\\n",
    "    -e \"xpack.security.enabled=false\" \\\n",
    "    docker.elastic.co/elasticsearch/elasticsearch:8.4.3\n",
    "```\n",
    "\n",
    "After running the above command, the elastic search was running on the localhost. The following command was used to check if the elastic search was running:\n",
    "    \n",
    "```bash\n",
    "curl -X GET \"localhost:9200/\"\n",
    "```\n",
    "\n",
    "If you want to check the health of the elastic search, you can use the following command:\n",
    "\n",
    "```bash\n",
    "curl -X GET \"localhost:9200/_cat/health?v\"\n",
    "```\n",
    "\n",
    "If you want to check the indices in the elastic search, you can use the following command:\n",
    "\n",
    "```bash\n",
    "curl -X GET \"localhost:9200/_cat/indices?v\"\n",
    "```\n",
    "\n",
    "To check the `version.build_hash` of the elastic search, you can use the following command:\n",
    "\n",
    "```bash\n",
    "curl -X GET \"localhost:9200/\"\n",
    "```"
   ],
   "id": "a432db48306b6c73"
  },
  {
   "metadata": {
    "ExecuteTime": {
     "end_time": "2024-07-01T11:11:55.312181Z",
     "start_time": "2024-07-01T11:11:55.247096Z"
    }
   },
   "cell_type": "code",
   "source": [
    "from elasticsearch import Elasticsearch\n",
    "import requests\n",
    "from tqdm.auto import tqdm"
   ],
   "id": "ac295788fa78e51d",
   "outputs": [],
   "execution_count": 29
  },
  {
   "metadata": {
    "ExecuteTime": {
     "end_time": "2024-07-01T10:59:35.002212Z",
     "start_time": "2024-07-01T10:59:34.999034Z"
    }
   },
   "cell_type": "code",
   "source": "es_client = Elasticsearch('http://localhost:9200') ",
   "id": "978dd0c4de51416b",
   "outputs": [],
   "execution_count": 3
  },
  {
   "metadata": {
    "ExecuteTime": {
     "end_time": "2024-07-01T11:03:30.829174Z",
     "start_time": "2024-07-01T11:03:30.815455Z"
    }
   },
   "cell_type": "code",
   "source": [
    "build_hash_result = requests.get('http://localhost:9200').json()\n",
    "build_hash_result.get('version').get('build_hash')  "
   ],
   "id": "2578fe32c909bd62",
   "outputs": [
    {
     "data": {
      "text/plain": [
       "'42f05b9372a9a4a470db3b52817899b99a76ee73'"
      ]
     },
     "execution_count": 25,
     "metadata": {},
     "output_type": "execute_result"
    }
   ],
   "execution_count": 25
  },
  {
   "metadata": {},
   "cell_type": "markdown",
   "source": "### Getting the data:",
   "id": "ce0f65a6f3f34f93"
  },
  {
   "metadata": {
    "ExecuteTime": {
     "end_time": "2024-07-01T11:04:13.776291Z",
     "start_time": "2024-07-01T11:04:12.837340Z"
    }
   },
   "cell_type": "code",
   "source": [
    "docs_url = 'https://github.com/DataTalksClub/llm-zoomcamp/blob/main/01-intro/documents.json?raw=1'\n",
    "docs_response = requests.get(docs_url)\n",
    "documents_raw = docs_response.json()\n",
    "\n",
    "documents = []\n",
    "\n",
    "for course in documents_raw:\n",
    "    course_name = course['course']\n",
    "\n",
    "    for doc in course['documents']:\n",
    "        doc['course'] = course_name\n",
    "        documents.append(doc)"
   ],
   "id": "1529b225e8633162",
   "outputs": [],
   "execution_count": 26
  },
  {
   "metadata": {},
   "cell_type": "markdown",
   "source": [
    "# Q2: Indexing the data:\n",
    "\n",
    "Make the course field a keyword and the rest should be text.\n",
    "\n",
    "```\n",
    "index_settings = {\n",
    "    \"settings\": {\n",
    "        \"number_of_shards\": 1,\n",
    "        \"number_of_replicas\": 0\n",
    "    },\n",
    "    \"mappings\": {\n",
    "        \"properties\": {\n",
    "            \"text\": {\"type\": \"text\"},\n",
    "            \"section\": {\"type\": \"text\"},\n",
    "            \"question\": {\"type\": \"text\"},\n",
    "            \"course\": {\"type\": \"keyword\"} \n",
    "        }\n",
    "    }\n",
    "}\n",
    "```\n",
    "\n",
    "The function that is used for adding data in elastic search is as follows:\n",
    "\n",
    "```python\n",
    "\n",
    "def add_documents_to_index(documents, index_name):\n",
    "    es_client.indices.create(index=index_name, body=index_settings)\n",
    "    for doc in documents:\n",
    "        es_client.index(index=index_name, body=doc)\n",
    "```"
   ],
   "id": "7474f237a1ede997"
  },
  {
   "metadata": {
    "ExecuteTime": {
     "end_time": "2024-07-01T11:11:24.588080Z",
     "start_time": "2024-07-01T11:11:24.584035Z"
    }
   },
   "cell_type": "code",
   "source": [
    "index_settings = {\n",
    "    \"settings\": {\n",
    "        \"number_of_shards\": 1,\n",
    "        \"number_of_replicas\": 0\n",
    "    },\n",
    "    \"mappings\": {\n",
    "        \"properties\": {\n",
    "            \"text\": {\"type\": \"text\"},\n",
    "            \"section\": {\"type\": \"text\"},\n",
    "            \"question\": {\"type\": \"text\"},\n",
    "            \"course\": {\"type\": \"keyword\"} \n",
    "        }\n",
    "    }\n",
    "}"
   ],
   "id": "e490311add4d7808",
   "outputs": [],
   "execution_count": 27
  },
  {
   "metadata": {
    "ExecuteTime": {
     "end_time": "2024-07-01T11:12:41.704749Z",
     "start_time": "2024-07-01T11:12:31.336072Z"
    }
   },
   "cell_type": "code",
   "source": [
    "index_name = \"course-questions\"\n",
    "es_client.indices.create(index=index_name, body=index_settings)\n",
    "\n",
    "for doc in tqdm(documents):\n",
    "    es_client.index(index=index_name, document=doc)"
   ],
   "id": "dce20ef4028c8045",
   "outputs": [
    {
     "data": {
      "text/plain": [
       "  0%|          | 0/948 [00:00<?, ?it/s]"
      ],
      "application/vnd.jupyter.widget-view+json": {
       "version_major": 2,
       "version_minor": 0,
       "model_id": "202c8d6ba08e4f908e15b8a9cf84b7c4"
      }
     },
     "metadata": {},
     "output_type": "display_data"
    }
   ],
   "execution_count": 30
  },
  {
   "metadata": {},
   "cell_type": "markdown",
   "source": [
    "# Q3: Search:\n",
    "\n",
    "Execute a query `\"How do I execute a command in a running docker container?\".`\n",
    "\n",
    "Use only question and text fields and give question a boost of 4, and use \"type\": \"best_fields\".\n",
    "\n",
    "Top ranking result?"
   ],
   "id": "32906e22cb6f5ddd"
  },
  {
   "metadata": {
    "ExecuteTime": {
     "end_time": "2024-07-01T11:13:32.255277Z",
     "start_time": "2024-07-01T11:13:32.251830Z"
    }
   },
   "cell_type": "code",
   "source": [
    "query = {\n",
    "    \"query\": {\n",
    "        \"multi_match\": {\n",
    "            \"query\": \"How do I execute a command in a running docker container?\",\n",
    "            \"fields\": [\"question^4\", \"text\"],\n",
    "            \"type\": \"best_fields\"\n",
    "        }\n",
    "    }\n",
    "}"
   ],
   "id": "fa883a5e43fd3dbd",
   "outputs": [],
   "execution_count": 31
  },
  {
   "metadata": {
    "ExecuteTime": {
     "end_time": "2024-07-01T11:13:39.444795Z",
     "start_time": "2024-07-01T11:13:39.388315Z"
    }
   },
   "cell_type": "code",
   "source": "result = es_client.search(index=index_name, body=query)",
   "id": "93750aded2152c18",
   "outputs": [],
   "execution_count": 32
  },
  {
   "metadata": {
    "ExecuteTime": {
     "end_time": "2024-07-01T11:13:41.547696Z",
     "start_time": "2024-07-01T11:13:41.543108Z"
    }
   },
   "cell_type": "code",
   "source": "result['hits']['hits'][0]['_source']",
   "id": "96a7ca2c2ee14bde",
   "outputs": [
    {
     "data": {
      "text/plain": [
       "{'text': 'Launch the container image in interactive mode and overriding the entrypoint, so that it starts a bash command.\\ndocker run -it --entrypoint bash <image>\\nIf the container is already running, execute a command in the specific container:\\ndocker ps (find the container-id)\\ndocker exec -it <container-id> bash\\n(Marcos MJD)',\n",
       " 'section': '5. Deploying Machine Learning Models',\n",
       " 'question': 'How do I debug a docker container?',\n",
       " 'course': 'machine-learning-zoomcamp'}"
      ]
     },
     "execution_count": 33,
     "metadata": {},
     "output_type": "execute_result"
    }
   ],
   "execution_count": 33
  },
  {
   "metadata": {
    "ExecuteTime": {
     "end_time": "2024-07-01T11:13:45.958566Z",
     "start_time": "2024-07-01T11:13:45.954358Z"
    }
   },
   "cell_type": "code",
   "source": "result['hits']['hits'][0]['_score']",
   "id": "783220664d9721b0",
   "outputs": [
    {
     "data": {
      "text/plain": [
       "84.050095"
      ]
     },
     "execution_count": 34,
     "metadata": {},
     "output_type": "execute_result"
    }
   ],
   "execution_count": 34
  },
  {
   "metadata": {
    "ExecuteTime": {
     "end_time": "2024-07-01T11:13:50.638154Z",
     "start_time": "2024-07-01T11:13:50.634281Z"
    }
   },
   "cell_type": "code",
   "source": "result['hits']['hits'][0]['_source']['text']",
   "id": "de2fa55a75fe9135",
   "outputs": [
    {
     "data": {
      "text/plain": [
       "'Launch the container image in interactive mode and overriding the entrypoint, so that it starts a bash command.\\ndocker run -it --entrypoint bash <image>\\nIf the container is already running, execute a command in the specific container:\\ndocker ps (find the container-id)\\ndocker exec -it <container-id> bash\\n(Marcos MJD)'"
      ]
     },
     "execution_count": 35,
     "metadata": {},
     "output_type": "execute_result"
    }
   ],
   "execution_count": 35
  },
  {
   "metadata": {},
   "cell_type": "markdown",
   "source": [
    "# Q4: Filtering:\n",
    "\n",
    "Limit the questions to `machine-learning-zoomcamp`.\n",
    "Return 3 results. What's the 3rd question returned?\n",
    "\n",
    "* How do I debug a docker container?\n",
    "* How do I copy files from a different folder into docker container’s working directory?\n",
    "* How do Lambda container images work?\n",
    "* How can I annotate a graph?"
   ],
   "id": "8c97a049dafb460f"
  },
  {
   "metadata": {
    "ExecuteTime": {
     "end_time": "2024-07-01T11:23:17.265290Z",
     "start_time": "2024-07-01T11:23:17.262026Z"
    }
   },
   "cell_type": "code",
   "source": [
    "# limit the questions to machine-learning-zoomcamp\n",
    "query = {\n",
    "    \"query\": {\n",
    "        \"bool\": {\n",
    "            \"filter\": {\n",
    "                \"term\": {\"course\": \"machine-learning-zoomcamp\"}\n",
    "            }\n",
    "        }\n",
    "    },\n",
    "    \"size\": 3\n",
    "}"
   ],
   "id": "c83703f9257234ac",
   "outputs": [],
   "execution_count": 61
  },
  {
   "metadata": {
    "ExecuteTime": {
     "end_time": "2024-07-01T11:23:17.637931Z",
     "start_time": "2024-07-01T11:23:17.586562Z"
    }
   },
   "cell_type": "code",
   "source": "result = es_client.search(index=index_name, body=query)",
   "id": "f28316956b029751",
   "outputs": [],
   "execution_count": 62
  },
  {
   "metadata": {
    "ExecuteTime": {
     "end_time": "2024-07-01T11:23:18.152395Z",
     "start_time": "2024-07-01T11:23:18.148560Z"
    }
   },
   "cell_type": "code",
   "source": "result['hits']['hits'][2]['_source']['question']",
   "id": "f82249f5003eb276",
   "outputs": [
    {
     "data": {
      "text/plain": [
       "'What if I miss a session?'"
      ]
     },
     "execution_count": 63,
     "metadata": {},
     "output_type": "execute_result"
    }
   ],
   "execution_count": 63
  },
  {
   "metadata": {},
   "cell_type": "markdown",
   "source": [
    "# Q5: Building a prompt:\n",
    "\n",
    "Build a prompt to send to an LLM.\n",
    "\n",
    "Take the records returned from Elasticsearch in Q4 and use this template to build the context. Separate context entries by two linebreaks `(\\n\\n)`\n",
    "\n",
    "```\n",
    "context_template = \"\"\"\n",
    "Q: {question}\n",
    "A: {text}\n",
    "\"\"\".strip()\n",
    "```\n",
    "\n",
    "use the context you just created along with the \"How do I execute a command in a running docker container?\" question to construct a prompt using the template below:\n",
    "\n",
    "```\n",
    "prompt_template = \"\"\"\n",
    "You're a course teaching assistant. Answer the QUESTION based on the CONTEXT from the FAQ database.\n",
    "Use only the facts from the CONTEXT when answering the QUESTION.\n",
    "\n",
    "QUESTION: {question}\n",
    "\n",
    "CONTEXT:\n",
    "{context}\n",
    "\"\"\".strip()\n",
    "```\n",
    "\n",
    "What's the length of the resulting prompt? (use the len function)\n"
   ],
   "id": "6f473595035205dd"
  },
  {
   "metadata": {
    "ExecuteTime": {
     "end_time": "2024-07-01T11:25:27.952275Z",
     "start_time": "2024-07-01T11:25:27.949002Z"
    }
   },
   "cell_type": "code",
   "source": [
    "context_template = \"\"\"\n",
    "Q: {question}\n",
    "A: {text}\n",
    "\"\"\".strip()\n",
    "\n",
    "prompt_template = \"\"\"\n",
    "You're a course teaching assistant. Answer the QUESTION based on the CONTEXT from the FAQ database.\n",
    "Use only the facts from the CONTEXT when answering the QUESTION. \n",
    "\n",
    "QUESTION: {question}\n",
    "\n",
    "CONTEXT:\n",
    "{context}\n",
    "\"\"\".strip()"
   ],
   "id": "f1471e851e3cb4b7",
   "outputs": [],
   "execution_count": 64
  },
  {
   "metadata": {
    "ExecuteTime": {
     "end_time": "2024-07-01T11:25:30.810354Z",
     "start_time": "2024-07-01T11:25:30.807372Z"
    }
   },
   "cell_type": "code",
   "source": "context = \"\\n\\n\".join([context_template.format(**hit['_source']) for hit in result['hits']['hits']])",
   "id": "e738509060957496",
   "outputs": [],
   "execution_count": 65
  },
  {
   "metadata": {
    "ExecuteTime": {
     "end_time": "2024-07-01T11:26:08.713555Z",
     "start_time": "2024-07-01T11:26:08.709785Z"
    }
   },
   "cell_type": "code",
   "source": "question = \"What if I miss a session?\"",
   "id": "5dc100c5ee15834d",
   "outputs": [],
   "execution_count": 69
  },
  {
   "metadata": {
    "ExecuteTime": {
     "end_time": "2024-07-01T11:26:09.064026Z",
     "start_time": "2024-07-01T11:26:09.061001Z"
    }
   },
   "cell_type": "code",
   "source": "prompt = prompt_template.format(question=question, context=context)",
   "id": "2f8c0d85f9188201",
   "outputs": [],
   "execution_count": 70
  },
  {
   "metadata": {
    "ExecuteTime": {
     "end_time": "2024-07-01T11:26:09.671314Z",
     "start_time": "2024-07-01T11:26:09.667269Z"
    }
   },
   "cell_type": "code",
   "source": "len(prompt)",
   "id": "6b5b3b97a9d95a1",
   "outputs": [
    {
     "data": {
      "text/plain": [
       "1244"
      ]
     },
     "execution_count": 71,
     "metadata": {},
     "output_type": "execute_result"
    }
   ],
   "execution_count": 71
  },
  {
   "metadata": {},
   "cell_type": "markdown",
   "source": [
    "# Q6: Tokens:\n",
    "\n",
    "When we use the OpenAI Platform, we're charged by the number of tokens we send in our prompt and receive in the response.\n",
    "\n",
    "The OpenAI python package uses `tiktoken` for tokenization:\n",
    "\n",
    "the number of tokens in our query:\n",
    "```\n",
    "encoding = tiktoken.encoding_for_model(\"gpt-4o\")\n",
    "```\n",
    "\n",
    "Use the `encode` function. How many tokens does our prompt have?\n"
   ],
   "id": "d7e16f288958bfac"
  },
  {
   "metadata": {
    "ExecuteTime": {
     "end_time": "2024-07-01T11:28:29.186782Z",
     "start_time": "2024-07-01T11:28:25.936760Z"
    }
   },
   "cell_type": "code",
   "source": [
    "# How many tokens does our prompt have?\n",
    "import tiktoken\n",
    "\n",
    "encoding = tiktoken.encoding_for_model(\"gpt-4o\")\n",
    "\n",
    "tokens = encoding.encode(prompt)\n",
    "\n",
    "len(tokens)"
   ],
   "id": "52349a94901e52b",
   "outputs": [
    {
     "data": {
      "text/plain": [
       "275"
      ]
     },
     "execution_count": 72,
     "metadata": {},
     "output_type": "execute_result"
    }
   ],
   "execution_count": 72
  },
  {
   "metadata": {
    "ExecuteTime": {
     "end_time": "2024-07-01T11:28:42.014721Z",
     "start_time": "2024-07-01T11:28:42.010927Z"
    }
   },
   "cell_type": "code",
   "source": "encoding.decode_single_token_bytes(63842)",
   "id": "42659cfacfab7729",
   "outputs": [
    {
     "data": {
      "text/plain": [
       "b\"You're\""
      ]
     },
     "execution_count": 73,
     "metadata": {},
     "output_type": "execute_result"
    }
   ],
   "execution_count": 73
  },
  {
   "metadata": {},
   "cell_type": "code",
   "outputs": [],
   "execution_count": null,
   "source": "",
   "id": "41c739ff3b6b89d9"
  }
 ],
 "metadata": {
  "kernelspec": {
   "display_name": "Python 3",
   "language": "python",
   "name": "python3"
  },
  "language_info": {
   "codemirror_mode": {
    "name": "ipython",
    "version": 2
   },
   "file_extension": ".py",
   "mimetype": "text/x-python",
   "name": "python",
   "nbconvert_exporter": "python",
   "pygments_lexer": "ipython2",
   "version": "2.7.6"
  }
 },
 "nbformat": 4,
 "nbformat_minor": 5
}
