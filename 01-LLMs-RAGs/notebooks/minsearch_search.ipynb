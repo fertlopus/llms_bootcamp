{
 "cells": [
  {
   "cell_type": "code",
   "id": "initial_id",
   "metadata": {
    "collapsed": true,
    "ExecuteTime": {
     "end_time": "2024-06-28T13:32:13.399008Z",
     "start_time": "2024-06-28T13:32:13.369386Z"
    }
   },
   "source": [
    "%load_ext autoreload\n",
    "%autoreload 2"
   ],
   "outputs": [],
   "execution_count": 1
  },
  {
   "metadata": {
    "ExecuteTime": {
     "end_time": "2024-06-28T13:35:51.991233Z",
     "start_time": "2024-06-28T13:35:51.953365Z"
    }
   },
   "cell_type": "code",
   "source": [
    "import json \n",
    "import requests\n",
    "from IPython.display import display, Markdown\n",
    "from pprint import pprint\n",
    "from utils.search import minsearch"
   ],
   "id": "f3908bffba32a3b6",
   "outputs": [],
   "execution_count": 11
  },
  {
   "metadata": {
    "ExecuteTime": {
     "end_time": "2024-06-28T13:33:10.132410Z",
     "start_time": "2024-06-28T13:33:09.310579Z"
    }
   },
   "cell_type": "code",
   "source": [
    "docs_url = 'https://github.com/alexeygrigorev/llm-rag-workshop/raw/main/notebooks/documents.json'\n",
    "docs_response = requests.get(docs_url)\n",
    "documents_raw = docs_response.json()\n",
    "\n",
    "documents = []\n",
    "\n",
    "for course in documents_raw:\n",
    "    course_name = course['course']\n",
    "\n",
    "    for doc in course['documents']:\n",
    "        doc['course'] = course_name\n",
    "        documents.append(doc)"
   ],
   "id": "71a152b6b2c6f877",
   "outputs": [],
   "execution_count": 3
  },
  {
   "metadata": {
    "ExecuteTime": {
     "end_time": "2024-06-28T13:33:31.718646Z",
     "start_time": "2024-06-28T13:33:31.529420Z"
    }
   },
   "cell_type": "code",
   "source": [
    "index = minsearch.Index(\n",
    "    text_fields=[\"question\", \"text\", \"section\"],\n",
    "    keyword_fields=[\"course\"]\n",
    ")\n",
    "\n",
    "index.fit(documents)"
   ],
   "id": "e81dda8dfbd89c5f",
   "outputs": [
    {
     "data": {
      "text/plain": [
       "<utils.search.minsearch.Index at 0x1e67e444e50>"
      ]
     },
     "execution_count": 4,
     "metadata": {},
     "output_type": "execute_result"
    }
   ],
   "execution_count": 4
  },
  {
   "metadata": {
    "ExecuteTime": {
     "end_time": "2024-06-28T13:35:57.187456Z",
     "start_time": "2024-06-28T13:35:57.144220Z"
    }
   },
   "cell_type": "code",
   "source": [
    "query = \"Can I join the course if it has already started?\"\n",
    "\n",
    "filter_dict = {\"course\": \"data-engineering-zoomcamp\"}\n",
    "boost_dict = {\"question\": 3}\n",
    "\n",
    "results = index.search(query, filter_dict, boost_dict, num_results=5)\n",
    "\n",
    "for result in results:\n",
    "    pprint(json.dumps(result, indent=2))"
   ],
   "id": "a8c94121b8bdbbde",
   "outputs": [
    {
     "name": "stdout",
     "output_type": "stream",
     "text": [
      "('{\\n'\n",
      " '  \"text\": \"Yes, even if you don\\'t register, you\\'re still eligible to '\n",
      " 'submit the homeworks.\\\\nBe aware, however, that there will be deadlines for '\n",
      " \"turning in the final projects. So don't leave everything for the last \"\n",
      " 'minute.\",\\n'\n",
      " '  \"section\": \"General course-related questions\",\\n'\n",
      " '  \"question\": \"Course - Can I still join the course after the start date?\",\\n'\n",
      " '  \"course\": \"data-engineering-zoomcamp\"\\n'\n",
      " '}')\n",
      "('{\\n'\n",
      " '  \"text\": \"Yes, we will keep all the materials after the course finishes, so '\n",
      " 'you can follow the course at your own pace after it finishes.\\\\nYou can also '\n",
      " 'continue looking at the homeworks and continue preparing for the next '\n",
      " 'cohort. I guess you can also start working on your final capstone '\n",
      " 'project.\",\\n'\n",
      " '  \"section\": \"General course-related questions\",\\n'\n",
      " '  \"question\": \"Course - Can I follow the course after it finishes?\",\\n'\n",
      " '  \"course\": \"data-engineering-zoomcamp\"\\n'\n",
      " '}')\n",
      "('{\\n'\n",
      " '  \"text\": \"Yes, the slack channel remains open and you can ask questions '\n",
      " 'there. But always sDocker containers exit code w search the channel first '\n",
      " 'and second, check the FAQ (this document), most likely all your questions '\n",
      " 'are already answered here.\\\\nYou can also tag the bot @ZoomcampQABot to help '\n",
      " 'you conduct the search, but don\\\\u2019t rely on its answers 100%, it is '\n",
      " 'pretty good though.\",\\n'\n",
      " '  \"section\": \"General course-related questions\",\\n'\n",
      " '  \"question\": \"Course - Can I get support if I take the course in the '\n",
      " 'self-paced mode?\",\\n'\n",
      " '  \"course\": \"data-engineering-zoomcamp\"\\n'\n",
      " '}')\n",
      "('{\\n'\n",
      " '  \"text\": \"The purpose of this document is to capture frequently asked '\n",
      " 'technical questions\\\\nThe exact day and hour of the course will be 15th Jan '\n",
      " \"2024 at 17h00. The course will start with the first  \\\\u201cOffice Hours'' \"\n",
      " 'live.1\\\\nSubscribe to course public Google Calendar (it works from Desktop '\n",
      " 'only).\\\\nRegister before the course starts using this link.\\\\nJoin the '\n",
      " 'course Telegram channel with announcements.\\\\nDon\\\\u2019t forget to register '\n",
      " 'in DataTalks.Club\\'s Slack and join the channel.\",\\n'\n",
      " '  \"section\": \"General course-related questions\",\\n'\n",
      " '  \"question\": \"Course - When will the course start?\",\\n'\n",
      " '  \"course\": \"data-engineering-zoomcamp\"\\n'\n",
      " '}')\n",
      "('{\\n'\n",
      " '  \"text\": \"You can start by installing and setting up all the dependencies '\n",
      " 'and requirements:\\\\nGoogle cloud account\\\\nGoogle Cloud SDK\\\\nPython 3 '\n",
      " '(installed with Anaconda)\\\\nTerraform\\\\nGit\\\\nLook over the prerequisites '\n",
      " 'and syllabus to see if you are comfortable with these subjects.\",\\n'\n",
      " '  \"section\": \"General course-related questions\",\\n'\n",
      " '  \"question\": \"Course - What can I do before the course starts?\",\\n'\n",
      " '  \"course\": \"data-engineering-zoomcamp\"\\n'\n",
      " '}')\n"
     ]
    }
   ],
   "execution_count": 12
  },
  {
   "metadata": {},
   "cell_type": "code",
   "outputs": [],
   "execution_count": null,
   "source": "",
   "id": "9af42ec977848834"
  }
 ],
 "metadata": {
  "kernelspec": {
   "display_name": "Python 3",
   "language": "python",
   "name": "python3"
  },
  "language_info": {
   "codemirror_mode": {
    "name": "ipython",
    "version": 2
   },
   "file_extension": ".py",
   "mimetype": "text/x-python",
   "name": "python",
   "nbconvert_exporter": "python",
   "pygments_lexer": "ipython2",
   "version": "2.7.6"
  }
 },
 "nbformat": 4,
 "nbformat_minor": 5
}
