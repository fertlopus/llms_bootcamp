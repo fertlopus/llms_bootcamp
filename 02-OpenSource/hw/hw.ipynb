{
 "cells": [
  {
   "metadata": {},
   "cell_type": "markdown",
   "source": [
    "## Homework: Open-Source LLMs\n",
    "\n",
    "In this homework, we'll experiment more with Ollama\n",
    "\n",
    "> It's possible that your answers won't match exactly. If it's the case, select the closest one.\n",
    "\n",
    "## Q1. Running Ollama with Docker\n",
    "\n",
    "Let's run ollama with Docker. We will need to execute the \n",
    "same command as in the lectures:\n",
    "\n",
    "```bash\n",
    "docker run -it \\\n",
    "    --rm \\\n",
    "    -v ollama:/root/.ollama \\\n",
    "    -p 11434:11434 \\\n",
    "    --name ollama \\\n",
    "    ollama/ollama\n",
    "```\n",
    "\n",
    "What's the version of ollama client? \n",
    "\n",
    "To find out, enter the container and execute `ollama` with the `-v` flag."
   ],
   "id": "e82a1ea5d7f48ecd"
  },
  {
   "metadata": {},
   "cell_type": "markdown",
   "source": "![](imgs/ollama_docker_it.png)",
   "id": "7fa2aad548c3d94f"
  },
  {
   "metadata": {},
   "cell_type": "markdown",
   "source": [
    "## Q2. Downloading an LLM \n",
    "\n",
    "We will donwload a smaller LLM - gemma:2b. \n",
    "\n",
    "Again let's enter the container and pull the model:\n",
    "\n",
    "```bash\n",
    "ollama pull gemma:2b\n",
    "```\n",
    "\n",
    "In docker, it saved the results into `/root/.ollama`\n",
    "\n",
    "We're interested in the metadata about this model. You can find\n",
    "it in `models/manifests/registry.ollama.ai/library`\n",
    "\n",
    "What's the content of the file related to gemma?"
   ],
   "id": "b272ab2847d6acaa"
  },
  {
   "metadata": {
    "ExecuteTime": {
     "end_time": "2024-07-07T17:22:42.849009Z",
     "start_time": "2024-07-07T17:22:42.840923Z"
    }
   },
   "cell_type": "code",
   "source": [
    "# metadata for gemma:2b in bash \n",
    "# !docker exec -it ollama cat /root/.ollama/models/manifests/registry.ollama.ai/library/gemma\n",
    "from pprint import pprint\n",
    "\n",
    "manifest = {\"schemaVersion\":2,\"mediaType\":\"application/vnd.docker.distribution.manifest.v2+json\",\n",
    " \"config\":{\"mediaType\":\"application/vnd.docker.container.image.v1+json\",\"digest\":\"sha256:887433b89a901c156f7e6944442f3c9e57f3c55d6ed52042cbb7303aea994290\",\"size\":483},\"layers\":[{\"mediaType\":\"application/vnd.ollama.image.model\",\"digest\":\"sha256:c1864a5eb19305c40519da12cc543519e48a0697ecd30e15d5ac228644957d12\",\"size\":1678447520},{\"mediaType\":\"application/vnd.ollama.image.license\",\"digest\":\"sha256:097a36493f718248845233af1d3fefe7a303f864fae13bc31a3a9704229378ca\",\"size\":8433},{\"mediaType\":\"application/vnd.ollama.image.template\",\"digest\":\"sha256:109037bec39c0becc8221222ae23557559bc594290945a2c4221ab4f303b8871\",\"size\":136},{\"mediaType\":\"application/vnd.ollama.image.params\",\"digest\":\"sha256:22a838ceb7fb22755a3b0ae9b4eadde629d19be1f651f73efb8c6b4e2cd0eea0\",\"size\":84}]}\n",
    "\n",
    "pprint(manifest)"
   ],
   "id": "c1617dd6b00e34d5",
   "outputs": [
    {
     "name": "stdout",
     "output_type": "stream",
     "text": [
      "{'config': {'digest': 'sha256:887433b89a901c156f7e6944442f3c9e57f3c55d6ed52042cbb7303aea994290',\n",
      "            'mediaType': 'application/vnd.docker.container.image.v1+json',\n",
      "            'size': 483},\n",
      " 'layers': [{'digest': 'sha256:c1864a5eb19305c40519da12cc543519e48a0697ecd30e15d5ac228644957d12',\n",
      "             'mediaType': 'application/vnd.ollama.image.model',\n",
      "             'size': 1678447520},\n",
      "            {'digest': 'sha256:097a36493f718248845233af1d3fefe7a303f864fae13bc31a3a9704229378ca',\n",
      "             'mediaType': 'application/vnd.ollama.image.license',\n",
      "             'size': 8433},\n",
      "            {'digest': 'sha256:109037bec39c0becc8221222ae23557559bc594290945a2c4221ab4f303b8871',\n",
      "             'mediaType': 'application/vnd.ollama.image.template',\n",
      "             'size': 136},\n",
      "            {'digest': 'sha256:22a838ceb7fb22755a3b0ae9b4eadde629d19be1f651f73efb8c6b4e2cd0eea0',\n",
      "             'mediaType': 'application/vnd.ollama.image.params',\n",
      "             'size': 84}],\n",
      " 'mediaType': 'application/vnd.docker.distribution.manifest.v2+json',\n",
      " 'schemaVersion': 2}\n"
     ]
    }
   ],
   "execution_count": 1
  },
  {
   "metadata": {},
   "cell_type": "markdown",
   "source": [
    "## Q3. Running the LLM\n",
    "\n",
    "Test the following prompt: \"10 * 10\". What's the answer?"
   ],
   "id": "11e4c1bc2ff47da0"
  },
  {
   "metadata": {},
   "cell_type": "markdown",
   "source": "![](imgs/ollama_run.png)",
   "id": "2b99e328241a90ed"
  },
  {
   "metadata": {},
   "cell_type": "markdown",
   "source": [
    "## Q4. Donwloading the weights \n",
    "\n",
    "We don't want to pull the weights every time we run\n",
    "a docker container. Let's do it once and have them available\n",
    "every time we start a container.\n",
    "\n",
    "First, we will need to change how we run the container.\n",
    "\n",
    "Instead of mapping the `/root/.ollama` folder to a named volume,\n",
    "let's map it to a local directory:\n",
    "\n",
    "```bash\n",
    "mkdir ollama_files\n",
    "\n",
    "docker run -it \\\n",
    "    --rm \\\n",
    "    -v ./ollama_files:/root/.ollama \\\n",
    "    -p 11434:11434 \\\n",
    "    --name ollama \\\n",
    "    ollama/ollama\n",
    "```\n",
    "\n",
    "Now pull the model:\n",
    "\n",
    "```bash\n",
    "docker exec -it ollama ollama pull gemma:2b \n",
    "```\n",
    "\n",
    "What's the size of the `ollama_files/models` folder? \n",
    "\n",
    "* 0.6G\n",
    "* 1.2G\n",
    "* 1.7G\n",
    "* 2.2G"
   ],
   "id": "3eafd83a4b261ba0"
  },
  {
   "metadata": {
    "ExecuteTime": {
     "end_time": "2024-07-07T17:53:29.007801Z",
     "start_time": "2024-07-07T17:53:29.003797Z"
    }
   },
   "cell_type": "code",
   "source": [
    "meta_info = {'layers':[\n",
    "            {'digest': 'sha256:c1864a5eb19305c40519da12cc543519e48a0697ecd30e15d5ac228644957d12',\n",
    "             'mediaType': 'application/vnd.ollama.image.model',\n",
    "             'size': 1678447520\n",
    "             }\n",
    "]}\n",
    "\n",
    "size_bytes = meta_info['layers'][0]['size']\n",
    "size_gbytes = size_bytes / (1024**3)"
   ],
   "id": "15ff4b9bd4934761",
   "outputs": [],
   "execution_count": 10
  },
  {
   "metadata": {
    "ExecuteTime": {
     "end_time": "2024-07-07T17:53:30.521590Z",
     "start_time": "2024-07-07T17:53:30.517184Z"
    }
   },
   "cell_type": "code",
   "source": "size_gbytes # due to rounding, the answer is 1.6G",
   "id": "7f5a03e87fcf4354",
   "outputs": [
    {
     "data": {
      "text/plain": [
       "1.5631760656833649"
      ]
     },
     "execution_count": 11,
     "metadata": {},
     "output_type": "execute_result"
    }
   ],
   "execution_count": 11
  },
  {
   "metadata": {},
   "cell_type": "markdown",
   "source": [
    "## Q5. Adding the weights \n",
    "\n",
    "Let's now stop the container and add the weights \n",
    "to a new image\n",
    "\n",
    "For that, let's create a `Dockerfile`:\n",
    "\n",
    "```dockerfile\n",
    "FROM ollama/ollama\n",
    "\n",
    "COPY ...\n",
    "```\n",
    "\n",
    "What do you put after `COPY`?"
   ],
   "id": "21642271c2d0b1b9"
  },
  {
   "metadata": {
    "ExecuteTime": {
     "end_time": "2024-07-07T17:53:58.329254Z",
     "start_time": "2024-07-07T17:53:58.325832Z"
    }
   },
   "cell_type": "code",
   "source": [
    "# the weights are in the folder /root/.ollama/models\n",
    "# COPY /root/.ollama/models /root/.ollama/models"
   ],
   "id": "895653c0db755907",
   "outputs": [],
   "execution_count": 12
  },
  {
   "metadata": {},
   "cell_type": "markdown",
   "source": [
    "## Q6. Serving it \n",
    "\n",
    "Let's build it:\n",
    "\n",
    "```bash\n",
    "docker build -t ollama-gemma2b .\n",
    "```\n",
    "\n",
    "And run it:\n",
    "\n",
    "```bash\n",
    "docker run -it --rm -p 11434:11434 ollama-gemma2b\n",
    "```\n",
    "\n",
    "We can connect to it using the OpenAI client\n",
    "\n",
    "Let's test it with the following prompt:\n",
    "\n",
    "```python\n",
    "prompt = \"What's the formula for energy?\"\n",
    "```\n",
    "\n",
    "Also, to make results reproducible, set the `temperature` parameter to 0:\n",
    "\n",
    "```bash\n",
    "response = client.chat.completions.create(\n",
    "    #...\n",
    "    temperature=0.0\n",
    ")\n",
    "```\n",
    "\n",
    "How many completion tokens did you get in response?\n",
    "\n",
    "* 304\n",
    "* 604\n",
    "* 904\n",
    "* 1204"
   ],
   "id": "f74cf954c2cb928b"
  },
  {
   "metadata": {
    "ExecuteTime": {
     "end_time": "2024-07-07T18:10:34.310320Z",
     "start_time": "2024-07-07T18:10:33.642443Z"
    }
   },
   "cell_type": "code",
   "source": [
    "from openai import OpenAI\n",
    "\n",
    "client = OpenAI(\n",
    "    base_url='http://localhost:11434/v1/',\n",
    "    api_key='ollama',\n",
    ")"
   ],
   "id": "7bfde087459e9df",
   "outputs": [],
   "execution_count": 13
  },
  {
   "metadata": {
    "ExecuteTime": {
     "end_time": "2024-07-07T18:20:40.888913Z",
     "start_time": "2024-07-07T18:20:21.363118Z"
    }
   },
   "cell_type": "code",
   "source": [
    "prompt = \"What's the formula for energy?\"\n",
    "\n",
    "response = client.chat.completions.create(\n",
    "        model='gemma:2b',\n",
    "        messages=[{\"role\": \"user\", \"content\": prompt}],\n",
    "        temperature=0.0\n",
    "    )"
   ],
   "id": "aeb69c27014285d6",
   "outputs": [],
   "execution_count": 44
  },
  {
   "metadata": {
    "ExecuteTime": {
     "end_time": "2024-07-07T18:20:40.894915Z",
     "start_time": "2024-07-07T18:20:40.889915Z"
    }
   },
   "cell_type": "code",
   "source": "response",
   "id": "73882c4c27f17fbd",
   "outputs": [
    {
     "data": {
      "text/plain": [
       "ChatCompletion(id='chatcmpl-509', choices=[Choice(finish_reason='stop', index=0, logprobs=None, message=ChatCompletionMessage(content=\"Sure, here's the formula for energy:\\n\\n**E = K + U**\\n\\nWhere:\\n\\n* **E** is the energy in joules (J)\\n* **K** is the kinetic energy in joules (J)\\n* **U** is the potential energy in joules (J)\\n\\n**Kinetic energy (K)** is the energy an object possesses when it moves or is in motion. It is calculated as half the product of an object's mass (m) and its velocity (v) squared:\\n\\n**K = 1/2 * m * v^2**\\n\\n**Potential energy (U)** is the energy an object possesses when it is in a position or has a specific configuration. It is calculated as the product of an object's mass and the gravitational constant (g) multiplied by the height or distance of the object from a reference point.\\n\\n**Gravitational potential energy (U)** is given by the formula:\\n\\n**U = mgh**\\n\\nWhere:\\n\\n* **m** is the mass of the object in kilograms (kg)\\n* **g** is the acceleration due to gravity in meters per second squared (m/s^2)\\n* **h** is the height or distance of the object in meters (m)\\n\\nThe formula for energy can be used to calculate the total energy of an object, the energy of a specific part of an object, or the change in energy of an object over time.\", role='assistant', function_call=None, tool_calls=None))], created=1720376440, model='gemma:2b', object='chat.completion', service_tier=None, system_fingerprint='fp_ollama', usage=CompletionUsage(completion_tokens=304, prompt_tokens=0, total_tokens=304))"
      ]
     },
     "execution_count": 45,
     "metadata": {},
     "output_type": "execute_result"
    }
   ],
   "execution_count": 45
  },
  {
   "metadata": {
    "ExecuteTime": {
     "end_time": "2024-07-07T18:20:40.898914Z",
     "start_time": "2024-07-07T18:20:40.895912Z"
    }
   },
   "cell_type": "code",
   "source": [
    "from IPython.display import display, Markdown, Latex\n",
    "# Get the message from the response\n",
    "message = dict(dict(dict(response)[\"choices\"][0])[\"message\"])[\"content\"]"
   ],
   "id": "b09817a3eeaf8a0d",
   "outputs": [],
   "execution_count": 46
  },
  {
   "metadata": {
    "ExecuteTime": {
     "end_time": "2024-07-07T18:20:40.904587Z",
     "start_time": "2024-07-07T18:20:40.899912Z"
    }
   },
   "cell_type": "code",
   "source": "display(Markdown(message))",
   "id": "c7392ca92327b2af",
   "outputs": [
    {
     "data": {
      "text/plain": [
       "<IPython.core.display.Markdown object>"
      ],
      "text/markdown": "Sure, here's the formula for energy:\n\n**E = K + U**\n\nWhere:\n\n* **E** is the energy in joules (J)\n* **K** is the kinetic energy in joules (J)\n* **U** is the potential energy in joules (J)\n\n**Kinetic energy (K)** is the energy an object possesses when it moves or is in motion. It is calculated as half the product of an object's mass (m) and its velocity (v) squared:\n\n**K = 1/2 * m * v^2**\n\n**Potential energy (U)** is the energy an object possesses when it is in a position or has a specific configuration. It is calculated as the product of an object's mass and the gravitational constant (g) multiplied by the height or distance of the object from a reference point.\n\n**Gravitational potential energy (U)** is given by the formula:\n\n**U = mgh**\n\nWhere:\n\n* **m** is the mass of the object in kilograms (kg)\n* **g** is the acceleration due to gravity in meters per second squared (m/s^2)\n* **h** is the height or distance of the object in meters (m)\n\nThe formula for energy can be used to calculate the total energy of an object, the energy of a specific part of an object, or the change in energy of an object over time."
     },
     "metadata": {},
     "output_type": "display_data"
    }
   ],
   "execution_count": 47
  },
  {
   "metadata": {
    "ExecuteTime": {
     "end_time": "2024-07-07T18:24:55.033330Z",
     "start_time": "2024-07-07T18:24:55.029327Z"
    }
   },
   "cell_type": "code",
   "source": [
    "# Calculate completion tokens with the tiktoken library\n",
    "dict(response)[\"usage\"]"
   ],
   "id": "2c915e0c3c09e0ef",
   "outputs": [
    {
     "data": {
      "text/plain": [
       "CompletionUsage(completion_tokens=304, prompt_tokens=0, total_tokens=304)"
      ]
     },
     "execution_count": 52,
     "metadata": {},
     "output_type": "execute_result"
    }
   ],
   "execution_count": 52
  },
  {
   "metadata": {},
   "cell_type": "code",
   "outputs": [],
   "execution_count": null,
   "source": "",
   "id": "db3ebeb5512deb64"
  }
 ],
 "metadata": {
  "kernelspec": {
   "display_name": "Python 3",
   "language": "python",
   "name": "python3"
  },
  "language_info": {
   "codemirror_mode": {
    "name": "ipython",
    "version": 2
   },
   "file_extension": ".py",
   "mimetype": "text/x-python",
   "name": "python",
   "nbconvert_exporter": "python",
   "pygments_lexer": "ipython2",
   "version": "2.7.6"
  }
 },
 "nbformat": 4,
 "nbformat_minor": 5
}
